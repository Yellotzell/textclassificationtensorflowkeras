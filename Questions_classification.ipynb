{
 "cells": [
  {
   "cell_type": "markdown",
   "metadata": {},
   "source": [
    "\n",
    "##### [Introduction](#intro)\n",
    "\n",
    "- [Students questions problem and data gathering **(Step 1)**](#prob_desc)\n",
    "    - [Context](#context)\n",
    "    - [Content - A quick look at the data](#content)\n",
    "\n",
    "##### [Methodology ](#method)\n",
    "\n",
    "- [Accuracy as measure of success **(Step 2)**](#accur)\n",
    "- [Hold-out evaluation protocol **(Step 3)**](#eval)\n",
    "- [Preparing the data **(Step 4)**](#data_prep)\n",
    "- [Code Modularisation](#mod_code)\n",
    "- [Building a simple TF-IDF model to beat the baseline **(Step 5)**](#base)\n",
    "- [A LSTM model that overfits the data **(Step 6)**](#overfit)\n",
    "- [Regularizing the model and tuning the hyperparameters **(Step 7)**](#tune)\n",
    "\n",
    "##### [Results](#results)\n",
    "- [ Re-train the model prior to deployment](#retrain)\n",
    "\n",
    "##### [Discussion/Conclusion](#discussion)\n",
    "\n",
    "##### [Comparison to the previous coursework](#compare)\n",
    "\n",
    "##### [References](#ref)\n"
   ]
  },
  {
   "cell_type": "code",
   "execution_count": 1,
   "metadata": {},
   "outputs": [],
   "source": [
    "import pandas as pd # dataframe manipulation\n",
    "import numpy as np # vector manipulation\n",
    "from tensorflow import keras # neural network library\n",
    "from tensorflow.keras import layers, regularizers # constructing and regularising neural networks\n",
    "from nltk.stem import WordNetLemmatizer # Turn words into lemmas\n",
    "from sklearn.model_selection import train_test_split # data spliting\n",
    "from sklearn.feature_extraction.text import CountVectorizer # text data vectorisation\n",
    "from sklearn.feature_extraction.text import TfidfVectorizer \n",
    "from sklearn.naive_bayes import MultinomialNB \n",
    "from sklearn import metrics\n",
    "import nltk # Natural language processing toolset\n",
    "# from nltk.stem import WordNetLemmatizer # Turn words into lemmas\n",
    "from sklearn.metrics import confusion_matrix, accuracy_score # Confusion matrix and accuracy\n",
    "import matplotlib.pyplot as plt # visualisation\n",
    "import seaborn as sn # Visualisation toolset\n",
    "import string\n",
    "import re # regular expressions\n",
    "import csv # csv toolset\n",
    "from imblearn.over_sampling import RandomOverSampler # package for dealing with impalanced datasets\n",
    "from keras.preprocessing import sequence\n",
    "from keras.models import Sequential\n",
    "from keras import layers\n",
    "from keras.layers import LSTM, Embedding, SimpleRNN, Dense"
   ]
  },
  {
   "cell_type": "markdown",
   "metadata": {},
   "source": [
    "## Introduction\n",
    "<a id=\"intro\"></a>"
   ]
  },
  {
   "cell_type": "markdown",
   "metadata": {},
   "source": [
    "### Students questions problem and data gathering\n",
    "<a id=\"prob_desc\"></a>"
   ]
  },
  {
   "cell_type": "markdown",
   "metadata": {},
   "source": [
    "**Context**\n",
    "<a id=\"context\"></a>\n",
    "\n",
    "\n",
    "Every year in India numerous students participate in JEE examinations that would give them a chance of being accepted in high-profile Institutes like NITs, AIIMS and IITs. In order to help these students with the examinations and to support them against competition, an Ed Tech industry has been developed. The assistance these companies provide includes mentoring and coaching, both online and offline. The dataset we use for this work includes questions that were asked by students who were preparing for these exams.\n",
    "\n",
    "The following is a NLP problem where we try to understand which subject this question belongs to based on the description of the question. \n",
    "\n",
    "The dataset used for this purspose is available for download on [Kaggle](https://www.kaggle.com/mrutyunjaybiswal/iitjee-neet-aims-students-questions-data).\n"
   ]
  },
  {
   "cell_type": "markdown",
   "metadata": {},
   "source": [
    "**Content**\n",
    "<a id=\"content\"></a>\n",
    "\n",
    "\n",
    "The dataset (```students-questions```) is in ```.csv``` format and contains a table with two columns.\n",
    "\n",
    "\n",
    "```eng```: This is the column with the questions or descriptions of the questions provided by students.\n",
    "\n",
    "\n",
    "```Subject```: The subject each question corresponds to with 4 classes: _Physics, Chemistry, Biology, and Mathematics._\n"
   ]
  },
  {
   "cell_type": "markdown",
   "metadata": {},
   "source": [
    "We read in the ```.csv``` file to see if it contains the given descriptions:"
   ]
  },
  {
   "cell_type": "code",
   "execution_count": 2,
   "metadata": {},
   "outputs": [],
   "source": [
    "# Read csv file\n",
    "questions = pd.read_csv('subjects-questions.csv')"
   ]
  },
  {
   "cell_type": "code",
   "execution_count": 3,
   "metadata": {},
   "outputs": [
    {
     "name": "stdout",
     "output_type": "stream",
     "text": [
      "As we can see, the dataset has 122519 rows and its column names are: ['eng', 'Subject']\n"
     ]
    }
   ],
   "source": [
    "print (f\"As we can see, the dataset has {questions.shape[0]} rows \"+\n",
    "       f\"and its column names are: {[col_name for col_name in questions.keys()]}\")"
   ]
  },
  {
   "cell_type": "markdown",
   "metadata": {},
   "source": [
    "Below we see the first 5 rows of the dataset:"
   ]
  },
  {
   "cell_type": "code",
   "execution_count": 4,
   "metadata": {},
   "outputs": [
    {
     "data": {
      "text/html": [
       "<div>\n",
       "<style scoped>\n",
       "    .dataframe tbody tr th:only-of-type {\n",
       "        vertical-align: middle;\n",
       "    }\n",
       "\n",
       "    .dataframe tbody tr th {\n",
       "        vertical-align: top;\n",
       "    }\n",
       "\n",
       "    .dataframe thead th {\n",
       "        text-align: right;\n",
       "    }\n",
       "</style>\n",
       "<table border=\"1\" class=\"dataframe\">\n",
       "  <thead>\n",
       "    <tr style=\"text-align: right;\">\n",
       "      <th></th>\n",
       "      <th>eng</th>\n",
       "      <th>Subject</th>\n",
       "    </tr>\n",
       "  </thead>\n",
       "  <tbody>\n",
       "    <tr>\n",
       "      <th>0</th>\n",
       "      <td>An anti-forest measure is\\nA. Afforestation\\nB...</td>\n",
       "      <td>Biology</td>\n",
       "    </tr>\n",
       "    <tr>\n",
       "      <th>1</th>\n",
       "      <td>Among the following organic acids, the acid pr...</td>\n",
       "      <td>Chemistry</td>\n",
       "    </tr>\n",
       "    <tr>\n",
       "      <th>2</th>\n",
       "      <td>If the area of two similar triangles are equal...</td>\n",
       "      <td>Maths</td>\n",
       "    </tr>\n",
       "    <tr>\n",
       "      <th>3</th>\n",
       "      <td>In recent year, there has been a growing\\nconc...</td>\n",
       "      <td>Biology</td>\n",
       "    </tr>\n",
       "    <tr>\n",
       "      <th>4</th>\n",
       "      <td>Which of the following statement\\nregarding tr...</td>\n",
       "      <td>Physics</td>\n",
       "    </tr>\n",
       "  </tbody>\n",
       "</table>\n",
       "</div>"
      ],
      "text/plain": [
       "                                                 eng    Subject\n",
       "0  An anti-forest measure is\\nA. Afforestation\\nB...    Biology\n",
       "1  Among the following organic acids, the acid pr...  Chemistry\n",
       "2  If the area of two similar triangles are equal...      Maths\n",
       "3  In recent year, there has been a growing\\nconc...    Biology\n",
       "4  Which of the following statement\\nregarding tr...    Physics"
      ]
     },
     "execution_count": 4,
     "metadata": {},
     "output_type": "execute_result"
    }
   ],
   "source": [
    "# first 5 rows\n",
    "questions.head(5)"
   ]
  },
  {
   "cell_type": "markdown",
   "metadata": {},
   "source": [
    "According to frequency table below, Biology is the least frequent appearing category."
   ]
  },
  {
   "cell_type": "code",
   "execution_count": 5,
   "metadata": {
    "scrolled": true
   },
   "outputs": [
    {
     "data": {
      "text/plain": [
       "Physics      38438\n",
       "Chemistry    37767\n",
       "Maths        33190\n",
       "Biology      13124\n",
       "Name: Subject, dtype: int64"
      ]
     },
     "execution_count": 5,
     "metadata": {},
     "output_type": "execute_result"
    }
   ],
   "source": [
    "# Frequency distribution\n",
    "questions.Subject.value_counts()"
   ]
  },
  {
   "cell_type": "markdown",
   "metadata": {},
   "source": [
    "Here we can see the distribution of the classes in our dataset which actually plots the information in the above frequency table."
   ]
  },
  {
   "cell_type": "code",
   "execution_count": 5,
   "metadata": {},
   "outputs": [
    {
     "data": {
      "image/png": "[encoded data removed]",
      "text/plain": [
       "<Figure size 432x288 with 1 Axes>"
      ]
     },
     "metadata": {
      "needs_background": "light"
     },
     "output_type": "display_data"
    }
   ],
   "source": [
    "# plotting the data \n",
    "questions.Subject.value_counts().plot(kind='barh', title='Courses distribution')\n",
    "plt.show()"
   ]
  },
  {
   "cell_type": "markdown",
   "metadata": {},
   "source": [
    "## Methodology\n",
    "<a id=\"method\"></a>"
   ]
  },
  {
   "cell_type": "markdown",
   "metadata": {},
   "source": [
    "### Accuracy as measure of success\n",
    "<a id=\"accur\"></a>  "
   ]
  },
  {
   "cell_type": "markdown",
   "metadata": {},
   "source": [
    "As a measure of success we will be using accuracy throughout this paper. Accuracy and the area under the ROC curve are measures of success used in practice often with classification problems where the dataset are more or less balanced (when classes have similar frequency counts)."
   ]
  },
  {
   "cell_type": "markdown",
   "metadata": {},
   "source": [
    "### Hold-out evaluation protocol \n",
    "<a id=\"eval\"></a>"
   ]
  },
  {
   "cell_type": "markdown",
   "metadata": {},
   "source": [
    "A common evaluation protocol used when a sufficient amount of data is available is to keep a hold-out validation set. This technique though can be subject to statistical fluctuation. To ensure the size of the data is suitable for using the hold-out method, we tried at first a simple dense neural network [<sup>**[2]**</sup>](#ref) using different rounds of shuffling when spliting the dataset into the train and validation sets. Taking into acount the fact that the variance in the validation results was not big, hence it would be safe to use this method. These training rounds are not included in this paper."
   ]
  },
  {
   "cell_type": "markdown",
   "metadata": {},
   "source": [
    "### Preparing the data\n",
    "<a id=\"data_prep\"></a>"
   ]
  },
  {
   "cell_type": "markdown",
   "metadata": {},
   "source": [
    "Here we expose some meaningful information of the dataset using regex (symbols would make sense for mathematics) and remove _a._ , _b._ , _c._ , _d._ and _?_ as we consider it not meaningful."
   ]
  },
  {
   "cell_type": "markdown",
   "metadata": {},
   "source": [
    "1. Remove a., b., c., d.\n",
    "\n",
    "2. Remove stopwords\n",
    "\n",
    "3. Replace all integers with a common word to retain the information that a number was used but not retain number specific information\n",
    "\n",
    "4. Build a tokenizer that tokenizes symbols too. This is important information to retain as symbols are used in mathematical operations\n",
    "\n",
    "In general, neural networks are considered to be less demanding in terms of feature engineering, however here we perform some engineering in order to make the process computationally lighter. \n",
    "\n",
    "It is however **important** to note here that we will be passing our ```my_tokenizer``` function to all the vectorisers we will be using as a parameter to make sure that for every case i.e., for the baseline model and LSTM, the same feature engineering will be applied to the data. "
   ]
  },
  {
   "cell_type": "code",
   "execution_count": 6,
   "metadata": {},
   "outputs": [],
   "source": [
    "def my_tokeniser(text):\n",
    "    \n",
    "    # we remove the integers replacing them with a \n",
    "    # single word ('specinteger' is not an actual word but operates as a variable)\n",
    "    # which contains more meaningful and general infromation for the network to capture\n",
    "    # instead of having to add too many integers in the vocabulary\n",
    "    pattern = r\"(?<!\\.)\\d+(?!\\.)\"\n",
    "    a = re.sub(pattern , \" specinteger \", text)\n",
    "    \n",
    "    # similarly we replace floats with a single term ('specifloat')\n",
    "    pattern = r\"[+-]?([0-9]+([.][0-9]*)?|[.][0-9]+)\"\n",
    "    a = re.sub(pattern , \" specifloat \", a)\n",
    "    \n",
    "    # removing the a. b. c. d. pattern which does not offer useful information\n",
    "    pattern = r\" [AaBbCcDd]\\.*? \"\n",
    "    a = re.sub(pattern , \" \", a)\n",
    "    \n",
    "    # create a space between special characters \n",
    "    a = re.sub(\"(\\\\W)\",\" \\\\1 \",a)\n",
    "    \n",
    "    # split based on whitespace\n",
    "    return re.split(\"\\\\s+\",a)"
   ]
  },
  {
   "cell_type": "markdown",
   "metadata": {},
   "source": [
    "### Prepare the train and test data\n",
    "\n",
    "It is hugely important to treat the test data as completely unseen so that can we prevent any risk of information leakage into the training data. For this purpose we will do our splits before fitting the vectorisers to the data. For the purpose of the simple baseline TFID model we will split the data into the train and test sets. Then we will split the dataset further into train, test and split for training our LSTM model."
   ]
  },
  {
   "cell_type": "code",
   "execution_count": 7,
   "metadata": {},
   "outputs": [],
   "source": [
    "# We assign the data to X and y\n",
    "X = questions.eng\n",
    "y = questions.Subject"
   ]
  },
  {
   "cell_type": "markdown",
   "metadata": {},
   "source": [
    "#### Oversampling the Biology class\n",
    "\n",
    "As we mentioned above, the success measure we will be using, accuracy, works best when applied on a balanced dataset. For this purpose, we will oversample the least frequent classes so that their counts will eventually match those of the largest class, Physics. Random sampling with replacement will be used. The resulting dataset is perfectly balanced and each subject appears exactly 38438 times.\n"
   ]
  },
  {
   "cell_type": "code",
   "execution_count": 8,
   "metadata": {},
   "outputs": [],
   "source": [
    "# define oversampling strategy\n",
    "oversample = RandomOverSampler(sampling_strategy='not majority')"
   ]
  },
  {
   "cell_type": "code",
   "execution_count": 9,
   "metadata": {},
   "outputs": [],
   "source": [
    "# fit and apply the transform\n",
    "X_over, y_over = oversample.fit_resample(pd.DataFrame(X), pd.DataFrame(y))"
   ]
  },
  {
   "cell_type": "code",
   "execution_count": 10,
   "metadata": {},
   "outputs": [
    {
     "data": {
      "text/plain": [
       "Biology      38438\n",
       "Chemistry    38438\n",
       "Maths        38438\n",
       "Physics      38438\n",
       "Name: Subject, dtype: int64"
      ]
     },
     "execution_count": 10,
     "metadata": {},
     "output_type": "execute_result"
    }
   ],
   "source": [
    "# Frequency distribution\n",
    "y_over.Subject.value_counts()"
   ]
  },
  {
   "cell_type": "markdown",
   "metadata": {},
   "source": [
    "We reassign ```X``` and ```y``` after balancing the classes."
   ]
  },
  {
   "cell_type": "code",
   "execution_count": 11,
   "metadata": {},
   "outputs": [],
   "source": [
    "X = X_over.eng\n",
    "y = y_over.Subject"
   ]
  },
  {
   "cell_type": "markdown",
   "metadata": {},
   "source": [
    "The ```train_test_split``` method shuffles by default the data during the splitting process. We also set the ```random_state``` parameter of the splitting to 42 for the purpose of outcome reproducibility."
   ]
  },
  {
   "cell_type": "code",
   "execution_count": 12,
   "metadata": {},
   "outputs": [],
   "source": [
    "# We split the data keeping 30% as a test set\n",
    "X_train, X_test, y_train, y_test = train_test_split(X, y, test_size=0.3, random_state=42)"
   ]
  },
  {
   "cell_type": "code",
   "execution_count": 13,
   "metadata": {},
   "outputs": [
    {
     "name": "stdout",
     "output_type": "stream",
     "text": [
      "(107626,) (46126,) (107626,) (46126,)\n"
     ]
    }
   ],
   "source": [
    "print (X_train.shape, X_test.shape, y_train.shape, y_test.shape)"
   ]
  },
  {
   "cell_type": "markdown",
   "metadata": {},
   "source": [
    "### Code modularisation\n",
    "<a id=\"mod_code\"></a>"
   ]
  },
  {
   "cell_type": "markdown",
   "metadata": {},
   "source": [
    "In this section we develop a class (```CW_network```) that supports all the methods and attributes of the dense neural networks we will using in this exercise. This will prevent us from rewriting chunks of code and risking obtainind bugs and errors. Moreover, this way with the code being reusable we will be able to tune the model and try different parameters more efficiently. Pieces of the following code are inspired from the book 'Deep Learning with Python' from Francois Chollet[<sup>**[8]**</sup>](#ref)"
   ]
  },
  {
   "cell_type": "code",
   "execution_count": 43,
   "metadata": {},
   "outputs": [],
   "source": [
    "class CW_network:\n",
    "    \"\"\"\n",
    "        A class to represent model objets in order to facilitate neural network\n",
    "        training and the visualisation of their results for the purposes of this coursework.\n",
    "\n",
    "        ...\n",
    "\n",
    "        Attributes\n",
    "        ----------\n",
    "        model : object\n",
    "            A neural network defined by the user.\n",
    "\n",
    "\n",
    "        Methods\n",
    "        -------\n",
    "        compile_dnn(o, l. m):\n",
    "            Complies the model with the preffered parameters.\n",
    "            \n",
    "        train_dnn( X_train, y_train, X_val, y_val, n_ep, batch):\n",
    "            Fits and trains the model based on the input data and the \n",
    "            preffered paramaters.\n",
    "            \n",
    "        evaluation(X_test, y_test):\n",
    "            Evaluates the model using unseen data.\n",
    "            \n",
    "        predictions(X_test):\n",
    "            Makes predictions about the class of unseed data.\n",
    "            \n",
    "        matrix(self, y_test):\n",
    "            Produces a confusion matrix based on the predictions\n",
    "            on the unseen data.\n",
    "            \n",
    "        vis_matrix(cls):\n",
    "            Visualises the confustion matrix produced based on the\n",
    "            predictions.\n",
    "            \n",
    "        train_val_loss_graph():\n",
    "            Visualises the loss of the training and the validation dataset\n",
    "            for every epoch of the training\n",
    "          \n",
    "        train_val_acc_graph():\n",
    "            Visualises the accuracy of the model ob the training and the \n",
    "            validation dataset for every epoch of the training.\n",
    "                \n",
    "    \"\"\"\n",
    "\n",
    "    def __init__(self, model):\n",
    "        \"\"\"\n",
    "        Constructs all the necessary attributes for the person object.\n",
    "\n",
    "        Parameters\n",
    "        ----------\n",
    "            model : Object\n",
    "                A dense neural network defined by the user.\n",
    "            summary : Object\n",
    "                A summary of the trainable and non-trainable parameters \n",
    "                of the model(it displays only if the model is built by the user).\n",
    "\n",
    "        \"\"\"\n",
    "        \n",
    "        self.model = model\n",
    "        \n",
    "        try:\n",
    "            self.summary = self.model.summary()\n",
    "        except:\n",
    "            pass\n",
    "        \n",
    "    def compile_network(self, o, l, m):\n",
    "        \"\"\"\n",
    "        It compiles the model with the given parameters.\n",
    "\n",
    "        Parameters\n",
    "        ----------\n",
    "        o : str, optional\n",
    "            The preffered optimiser for the model\n",
    "        l : str\n",
    "            The preffered loss function for the model\n",
    "        m : str\n",
    "            The preffered metric for the model\n",
    "            \n",
    "\n",
    "        Returns\n",
    "        -------\n",
    "        None\n",
    "        \n",
    "        \"\"\"\n",
    "        \n",
    "        \n",
    "        self.model.compile(optimizer=o,\n",
    "                           loss=l,\n",
    "                           metrics=[m])\n",
    "        \n",
    "    def train_network(self, X_train, y_train, n_ep, batch, val_split ):      \n",
    "        \"\"\"\n",
    "        It trains the model by using the input data.\n",
    "\n",
    "        Parameters\n",
    "        ----------\n",
    "        X_train : array\n",
    "            The data to be used for training.\n",
    "        y_train : array\n",
    "            The labels that correspond to the X_train data.\n",
    "        X_val : array\n",
    "            The data to be used for validation.     \n",
    "        X_val : array\n",
    "            The data to be used for validation.  \n",
    "        y_val : array\n",
    "            The labels that correspond to X_val\n",
    "        n_ep : int\n",
    "            Number of epochs for the model to be trained\n",
    "        batch : int\n",
    "            Size of the batch of data to be used with each itteration.\n",
    "\n",
    "\n",
    "        Returns\n",
    "        -------\n",
    "        None\n",
    "        \n",
    "        \"\"\"\n",
    "        \n",
    "        self.history = self.model.fit(X_train,\n",
    "                                      y_train,\n",
    "                                      epochs=n_ep,\n",
    "                                      batch_size=batch,\n",
    "                                      validation_split=val_split)\n",
    "    \n",
    "    def evaluation(self, X_test, y_test):\n",
    "                \n",
    "        \"\"\"\n",
    "        It evaluates the model performance on unseed data.\n",
    "\n",
    "        Parameters\n",
    "        ----------\n",
    "        X_test : array\n",
    "            The preffered optimiser for the model\n",
    "        y_test : array\n",
    "            The preffered loss function for the model\n",
    "        m : str\n",
    "  \n",
    "\n",
    "        Returns\n",
    "        -------\n",
    "        eval_results : list\n",
    "            A list with the loss and accuracy of the model.\n",
    "            eval_results[0] -> loss\n",
    "            eval_results[1] -> accuracy\n",
    "        \n",
    "        \"\"\"\n",
    "        \n",
    "        self.eval_results = self.model.evaluate(X_test, y_test)\n",
    "        \n",
    "        return self.eval_results\n",
    "        \n",
    "    def predictions(self, X_test):\n",
    "                        \n",
    "        \"\"\"\n",
    "        It makes predictions by applying the model on unseen data.\n",
    "\n",
    "        Parameters\n",
    "        ----------\n",
    "        X_test : array\n",
    "            The data to be used for prediction\n",
    "       \n",
    "  \n",
    "        Returns\n",
    "        -------\n",
    "        prediction : array\n",
    "            An array with the probabilities for each class.\n",
    "        \n",
    "        \"\"\"\n",
    "        \n",
    "        self.prediction =  self.model.predict(X_test)\n",
    "        \n",
    "        return self.prediction\n",
    "    \n",
    "    def matrix(self, y_test):\n",
    "                                \n",
    "        \"\"\"\n",
    "        Produces a confusion matrix based on the predictions\n",
    "        on the unseen data.\n",
    "\n",
    "        Parameters\n",
    "        ----------\n",
    "        y_test : array\n",
    "            The labels of the unseen data\n",
    "       \n",
    "  \n",
    "        Returns\n",
    "        -------\n",
    "        matrix : array\n",
    "            An array with the values of the confusion matrix.\n",
    "        \n",
    "        \"\"\"\n",
    "        \n",
    "        self.matrix =  confusion_matrix(np.argmax(y_test, axis=1),\n",
    "                                        np.argmax(self.prediction,axis=1),\n",
    "                                        normalize='true')\n",
    "        \n",
    "        return self.matrix\n",
    "    \n",
    "    def vis_matrix(self, cls):\n",
    "                                \n",
    "        \"\"\"\n",
    "        Visualises the confustion matrix produced based on the\n",
    "        predictions.\n",
    "\n",
    "        Parameters\n",
    "        ----------\n",
    "        cls : list\n",
    "            The labels of the data\n",
    "       \n",
    "       \n",
    "        Returns\n",
    "        -------\n",
    "        matrix : A matplotlib Object\n",
    "            A cofusion matrix graph.\n",
    "        \n",
    "        \"\"\"\n",
    "        \n",
    "        df_cm = pd.DataFrame(self.matrix,\n",
    "                             index = [i for i in cls],\n",
    "                             columns = [i for i in cls])\n",
    "        \n",
    "        plt.figure(figsize = (10,8))\n",
    "        sn.heatmap(df_cm, annot=True, fmt='g')\n",
    "        plt.show()\n",
    "    \n",
    "    def train_val_loss_graph(self):\n",
    "                                        \n",
    "        \"\"\"\n",
    "        Visualises the loss of the training and the validation dataset\n",
    "        for every epoch of the training\n",
    "\n",
    "        \"\"\"\n",
    "        # A dictionary that contains the model's metrics during training\n",
    "        history_dict = self.history.history\n",
    "        # Loss values of the train set during training\n",
    "        loss_values = history_dict[\"loss\"]\n",
    "        # Loss values of validation set during training\n",
    "        val_loss_values = history_dict[\"val_loss\"]\n",
    "        # Number of epochs\n",
    "        epochs = range(1, len(loss_values) + 1)\n",
    "        # Plotting the training set's loss values\n",
    "        plt.plot(epochs, loss_values, \"bo\", label=\"Training loss\")\n",
    "        # Plotting the validation set's loss values\n",
    "        plt.plot(epochs, val_loss_values, \"b\", label=\"Validation loss\")\n",
    "        # Title of graph\n",
    "        plt.title(\"Training and validation loss\")\n",
    "        # Label of x axis\n",
    "        plt.xlabel(\"Epochs\")\n",
    "        # Label of y axis\n",
    "        plt.ylabel(\"Loss\")\n",
    "        plt.legend()\n",
    "        plt.show()\n",
    "        \n",
    "    def train_val_acc_graph(self):\n",
    "                                                \n",
    "        \"\"\"\n",
    "        Visualises the accuracy of the model of the training and the \n",
    "        validation dataset for every epoch of the training.\n",
    "\n",
    "        \"\"\"\n",
    "        # A dictionary that contains the model's metrics during training\n",
    "        history_dict = self.history.history\n",
    "        # Train set accuracy during training\n",
    "        acc = history_dict[\"accuracy\"]\n",
    "        # Validation set accuracy during training\n",
    "        val_acc = history_dict[\"val_accuracy\"]\n",
    "        loss_values = history_dict[\"loss\"]\n",
    "        # Number of epochs\n",
    "        epochs = range(1, len(loss_values) + 1)\n",
    "        # Plotting the training set accuracy\n",
    "        plt.plot(epochs, acc, \"bo\", label=\"Training acc\")\n",
    "        # Plotting the validation set accuracy\n",
    "        plt.plot(epochs, val_acc, \"b\", label=\"Validation acc\")\n",
    "        # Title\n",
    "        plt.title(\"Training and validation accuracy\")\n",
    "        # Label of x axis\n",
    "        plt.xlabel(\"Epochs\")\n",
    "        # Label of y axis\n",
    "        plt.ylabel(\"Accuracy\")\n",
    "        plt.legend()\n",
    "        plt.show()"
   ]
  },
  {
   "cell_type": "markdown",
   "metadata": {},
   "source": [
    "To find out more about our objects and its methods and attributes, one can use stardard python syntax over the course of this notebook."
   ]
  },
  {
   "cell_type": "code",
   "execution_count": 44,
   "metadata": {},
   "outputs": [
    {
     "name": "stdout",
     "output_type": "stream",
     "text": [
      "\n",
      "        A class to represent model objets in order to facilitate the dense neural network\n",
      "        training and the visualisation of their results for the purposes of this coursework.\n",
      "\n",
      "        ...\n",
      "\n",
      "        Attributes\n",
      "        ----------\n",
      "        model : object\n",
      "            A dense neural network defined by the user.\n",
      "\n",
      "\n",
      "        Methods\n",
      "        -------\n",
      "        compile_dnn(o, l. m):\n",
      "            Complies the model with the preffered parameters.\n",
      "            \n",
      "        train_dnn( X_train, y_train, X_val, y_val, n_ep, batch):\n",
      "            Fits and trains the model based on the input data and the \n",
      "            preffered paramaters.\n",
      "            \n",
      "        evaluation(X_test, y_test):\n",
      "            Evaluates the model using unseen data.\n",
      "            \n",
      "        predictions(X_test):\n",
      "            Makes predictions about the class of unseed data.\n",
      "            \n",
      "        matrix(self, y_test):\n",
      "            Produces a confusion matrix based on the predictions\n",
      "            on the unseen data.\n",
      "            \n",
      "        vis_matrix(cls):\n",
      "            Visualises the confustion matrix produced based on the\n",
      "            predictions.\n",
      "            \n",
      "        train_val_loss_graph():\n",
      "            Visualises the loss of the training and the validation dataset\n",
      "            for every epoch of the training\n",
      "          \n",
      "        train_val_acc_graph():\n",
      "            Visualises the accuracy of the model ob the training and the \n",
      "            validation dataset for every epoch of the training.\n",
      "                \n",
      "    \n"
     ]
    }
   ],
   "source": [
    "print (CW_network.__doc__)"
   ]
  },
  {
   "cell_type": "markdown",
   "metadata": {},
   "source": [
    "One can also use python's help functionality:"
   ]
  },
  {
   "cell_type": "code",
   "execution_count": 45,
   "metadata": {},
   "outputs": [
    {
     "name": "stdout",
     "output_type": "stream",
     "text": [
      "Help on function vis_matrix in module __main__:\n",
      "\n",
      "vis_matrix(self, cls)\n",
      "    Visualises the confustion matrix produced based on the\n",
      "    predictions.\n",
      "    \n",
      "    Parameters\n",
      "    ----------\n",
      "    cls : list\n",
      "        The labels of the data\n",
      "    \n",
      "    \n",
      "    Returns\n",
      "    -------\n",
      "    matrix : A matplotlib Object\n",
      "        A cofusion matrix graph.\n",
      "\n"
     ]
    }
   ],
   "source": [
    "# help on 'vis_matrix' method\n",
    "help(CW_network.vis_matrix)"
   ]
  },
  {
   "cell_type": "markdown",
   "metadata": {},
   "source": [
    "### Building a simple model to beat the baseline\n",
    "<a id=\"base\"></a>"
   ]
  },
  {
   "cell_type": "markdown",
   "metadata": {},
   "source": [
    "Here we put together the simplest possible model that could be considered and improvement to the most naive algorithm i.e., the random selector. We expect that this model will have a higher accuracy than the random selector, which is expected to be accurate 25% of the time. It is possibile that this model could perform reasonably well, however we intend to further enhance it with a more complex model that could capture more patterns in the data in order to improve performance. "
   ]
  },
  {
   "cell_type": "markdown",
   "metadata": {},
   "source": [
    "### Baseline performance\n",
    "<a id=\"baseline\"></a>\n",
    "\n",
    "As mentioned previously, we will be using a Naive Bayes[<sup>**[6]**</sup>](#ref) classifier as a baseline algorithm that we can later compare out results to. To be more specific we will be using a multinomial Naive Bayes model as the target variable has more than 2 classes. This algorithm uses Bays' theorem assuming independence of the different features i.e., zero correlation. This kind of classifier is widely used in NLP problems because of its scalablility potential."
   ]
  },
  {
   "cell_type": "markdown",
   "metadata": {},
   "source": [
    "#### Term Frequency and Inverse Document Frequency (TF-IDF)\n",
    "<a id=\"tfidf\"></a>\n",
    "\n",
    "TF-IDF is a metric that determines if a term is significant to a text."
   ]
  },
  {
   "cell_type": "markdown",
   "metadata": {},
   "source": [
    "We can finally fit the TF-IDF vectoriser to the train dataset (please **note** here that we won't be using the test data at this stage, since this could imply information leakage. We will treat the test data as totally unseen.)"
   ]
  },
  {
   "cell_type": "code",
   "execution_count": 17,
   "metadata": {},
   "outputs": [],
   "source": [
    "# We define our tf-idf vectoriser\n",
    "tf_idf = TfidfVectorizer(min_df=0, lowercase=True,\n",
    "                        # we use 'my_tokeniser' function\n",
    "                        tokenizer=my_tokeniser,\n",
    "                        # we remove all the English stop words\n",
    "                        stop_words='english')\n",
    "\n",
    "# We fit the vectoriser to the the train data\n",
    "X_train_vectorised = tf_idf.fit_transform(X_train)\n",
    "\n",
    "# We transform the train data\n",
    "X_train_vectorised = tf_idf.transform(X_train)"
   ]
  },
  {
   "cell_type": "code",
   "execution_count": 18,
   "metadata": {},
   "outputs": [
    {
     "name": "stdout",
     "output_type": "stream",
     "text": [
      "A sample of the sparse matrix :\n",
      "\n",
      "  (0, 32674)\t0.1594227694789056\n",
      "  (0, 32672)\t0.15941749381369308\n",
      "  (0, 31924)\t0.063622515417768\n",
      "  (0, 27420)\t0.24544430277378593\n",
      "  (0, 27414)\t0.32910839035873707\n",
      "  (0, 27257)\t0.14398184490404806\n",
      "  (0, 27177)\t0.09218266700999003\n",
      "  (0, 23264)\t0.21832137759937204\n",
      "  (0, 21949)\t0.10379315366038516\n",
      "  (0, 21075)\t0.058286347087017236\n",
      "  (0, 20196)\t0.11524564571666994\n",
      "  (0, 18684)\t0.31408036965025743\n",
      "  (0, 18670)\t0.12343602102140691\n",
      "  (0, 17818)\t0.19017025639537652\n",
      "  (0, 17424)\t0.10152533936744347\n",
      "  (0, 15960)\t0.09254267098976784\n",
      "  (0, 13058)\t0.0659028610044336\n",
      "  (0, 13057)\t0.05629378218481926\n",
      "  (0, 8928)\t0.1317913689777758\n",
      "  (0, 8517)\t0.14026061441589582\n",
      "  (0, 7351)\t0.020488797611057884\n",
      "  (0, 4670)\t0.03857932401288416\n",
      "  (0, 3881)\t0.24124012293810312\n",
      "  (0, 2573)\t0.021674644085500697\n",
      "  (0, 310)\t0.07259201035146498\n",
      "  (0, 262)\t0.10881187992375088\n",
      "  (0, 260)\t0.12615935639628453\n",
      "  (0, 24)\t0.5149116865563251\n",
      "  (0, 21)\t0.03800160676728249\n",
      "  (0, 14)\t0.08783534760091898\n",
      "  (0, 9)\t0.20603548523517384\n",
      "  (0, 8)\t0.20631700658607563\n",
      "  (0, 6)\t0.07221979614435485\n",
      "  (0, 0)\t0.024953815718062575\n",
      "\n",
      "\n",
      "The matrix contains 107626 number of samples and 33148 number of features\n"
     ]
    }
   ],
   "source": [
    "print(f\"A sample of the sparse matrix :\\n\\n{X_train_vectorised[0]}\")\n",
    "\n",
    "print (f\"\\n\\nThe matrix contains {X_train_vectorised.shape[0]} number of samples and {X_train_vectorised.shape[1]} number of features\")"
   ]
  },
  {
   "cell_type": "code",
   "execution_count": 19,
   "metadata": {},
   "outputs": [],
   "source": [
    "X_test_vectorised = tf_idf.transform(X_test)"
   ]
  },
  {
   "cell_type": "markdown",
   "metadata": {},
   "source": [
    "#### Naive Bayes Classifier\n",
    "<a id=\"nb\"></a>\n",
    "\n",
    "Here we define our Naive Bayes classifier:"
   ]
  },
  {
   "cell_type": "code",
   "execution_count": 20,
   "metadata": {},
   "outputs": [],
   "source": [
    "# We define our Naive Bayes classifier\n",
    "naive_bayes_clf = MultinomialNB()"
   ]
  },
  {
   "cell_type": "markdown",
   "metadata": {},
   "source": [
    "We then fit this classifier to the TF-IDF vectorised train data."
   ]
  },
  {
   "cell_type": "code",
   "execution_count": 21,
   "metadata": {},
   "outputs": [
    {
     "data": {
      "text/plain": [
       "MultinomialNB()"
      ]
     },
     "execution_count": 21,
     "metadata": {},
     "output_type": "execute_result"
    }
   ],
   "source": [
    "# We fit the classifier to the tf-idf vectorised train data\n",
    "naive_bayes_clf.fit(X_train_vectorised, y_train)"
   ]
  },
  {
   "cell_type": "markdown",
   "metadata": {},
   "source": [
    "We can now use our classifier to predict the classes in the test dataset."
   ]
  },
  {
   "cell_type": "code",
   "execution_count": 22,
   "metadata": {},
   "outputs": [],
   "source": [
    "y_predicted = naive_bayes_clf.predict(X_test_vectorised)"
   ]
  },
  {
   "cell_type": "markdown",
   "metadata": {},
   "source": [
    "Finally, we produce the report below that shows how the baseline classifier performed with regards predicting the classes of the unseen data."
   ]
  },
  {
   "cell_type": "code",
   "execution_count": 23,
   "metadata": {},
   "outputs": [
    {
     "name": "stdout",
     "output_type": "stream",
     "text": [
      "              precision    recall  f1-score   support\n",
      "\n",
      "     Biology       0.94      0.92      0.93     11580\n",
      "   Chemistry       0.90      0.86      0.88     11417\n",
      "       Maths       0.90      0.95      0.92     11552\n",
      "     Physics       0.89      0.89      0.89     11577\n",
      "\n",
      "    accuracy                           0.91     46126\n",
      "   macro avg       0.91      0.91      0.91     46126\n",
      "weighted avg       0.91      0.91      0.91     46126\n",
      "\n"
     ]
    }
   ],
   "source": [
    "print(metrics.classification_report(y_test, y_predicted))"
   ]
  },
  {
   "cell_type": "code",
   "execution_count": 24,
   "metadata": {},
   "outputs": [
    {
     "data": {
      "text/plain": [
       "0.9067120496032607"
      ]
     },
     "execution_count": 24,
     "metadata": {},
     "output_type": "execute_result"
    }
   ],
   "source": [
    "accuracy_score(y_test, y_predicted)"
   ]
  },
  {
   "cell_type": "markdown",
   "metadata": {},
   "source": [
    "\n",
    "\n",
    "The accuracy of the baseline classifier is 91% as seen in the report above. Overall precision, recall and f1-score are also at 91%. There is little to almost no variation in the class-specific precision scores.\n"
   ]
  },
  {
   "cell_type": "code",
   "execution_count": 25,
   "metadata": {},
   "outputs": [
    {
     "data": {
      "image/png": "[encoded data removed]",
      "text/plain": [
       "<Figure size 720x576 with 2 Axes>"
      ]
     },
     "metadata": {
      "needs_background": "light"
     },
     "output_type": "display_data"
    }
   ],
   "source": [
    "# Generating the confusion matrix\n",
    "\n",
    "mat = metrics.confusion_matrix(y_test, y_predicted, normalize='true')\n",
    "\n",
    "df_cm = pd.DataFrame(mat,\n",
    "                     index = [\"Biology\", \"Chemistry\", \n",
    "                              \"Math\", \"Physics\"],\n",
    "                     columns = [\"Biology\", \"Chemistry\", \n",
    "                              \"Math\", \"Physics\"])\n",
    "\n",
    "plt.figure(figsize = (10,8))\n",
    "sn.heatmap(df_cm, annot=True, fmt='g')\n",
    "plt.show()"
   ]
  },
  {
   "cell_type": "markdown",
   "metadata": {},
   "source": [
    "We have plotted a heatmap plot which results from calculating the confusion matrix for this classification. This heatmap basically plots the class-level accuracy scores i.e., all combinations of correct and incorrect classifications expressed as a percentage. The true positive levels are relatively high ranging from 86% for Chemistry to 95% for Math."
   ]
  },
  {
   "cell_type": "markdown",
   "metadata": {},
   "source": [
    "### Vectorising the data for the neural network models"
   ]
  },
  {
   "cell_type": "markdown",
   "metadata": {},
   "source": [
    "In order to help us represent our text data as vectors we will use the ```CountVectorizer``` from sklearn[<sup>**[3]**</sup>](#ref). This method converts a collection of text documents to a matrix of token counts. We initiate the count vectoriser so we can later fit it to the train dataset."
   ]
  },
  {
   "cell_type": "code",
   "execution_count": 26,
   "metadata": {},
   "outputs": [],
   "source": [
    "# We initiate vectoriser for X\n",
    "vec_X = CountVectorizer(min_df=0, lowercase=True,\n",
    "                        # we use 'my_tokeniser' function\n",
    "                        tokenizer=my_tokeniser,\n",
    "                        # we remove all the English stop words\n",
    "                        stop_words='english',\n",
    "                        # our output is a vector that only contains 0, 1\n",
    "                        binary = True)"
   ]
  },
  {
   "cell_type": "code",
   "execution_count": 27,
   "metadata": {},
   "outputs": [],
   "source": [
    "# Similarly we initiate vectoriser for y\n",
    "vec_y = CountVectorizer()"
   ]
  },
  {
   "cell_type": "markdown",
   "metadata": {},
   "source": [
    "Word embeddings are a category of word representation that permit words to have matching representations if they have matching meanings[<sup>**[4]**</sup>](#ref). A key benefit of using word embeddings over sparse word representations is that they result in words being represented in much fewer dimensions therefore indirectly adding benefit to speed, space usage etc. The words' usage indicates how the representation is learnt, something that contrasts to for example a 'bag of words' approach where words will be represented differently even if they have meanings that are alike. Below we create a helper function to fit the vectoriser to our training dataset.\n"
   ]
  },
  {
   "cell_type": "code",
   "execution_count": 29,
   "metadata": {},
   "outputs": [],
   "source": [
    "# We create a helper function for fitting our vectoriser by using train data\n",
    "# and later gerenate the embeddings \n",
    "def pre_proc_text(train_text, text, vectoriser):\n",
    "    # we fit our vectoriser to the data\n",
    "    vectoriser.fit(train_text)\n",
    "    # transform our data to array\n",
    "    text_vect = vectoriser.transform(text).toarray()\n",
    "    # We use the indices of the elements of our sparce vectors that are non-zero \n",
    "    return np.array([list(np.nonzero(i)[0]) for i in text_vect], dtype=object)   "
   ]
  },
  {
   "cell_type": "markdown",
   "metadata": {},
   "source": [
    "It is now of major **importance** to only use the _train_ data to fit the vectoriser. Then we can use the ```vec_X``` and ```vec_y``` vectorisers to transform the validation and test data into arrays respectively."
   ]
  },
  {
   "cell_type": "code",
   "execution_count": 30,
   "metadata": {},
   "outputs": [
    {
     "name": "stderr",
     "output_type": "stream",
     "text": [
      "/opt/anaconda3/envs/dl_env/lib/python3.7/site-packages/sklearn/feature_extraction/text.py:489: UserWarning: The parameter 'token_pattern' will not be used since 'tokenizer' is not None'\n",
      "  warnings.warn(\"The parameter 'token_pattern' will not be used\"\n"
     ]
    },
    {
     "name": "stdout",
     "output_type": "stream",
     "text": [
      "(107626,)\n"
     ]
    }
   ],
   "source": [
    "# We transfrom our train data to vector \n",
    "# by fitting vec_X to the train data\n",
    "X_train_vect = pre_proc_text(X_train, X_train, vec_X)\n",
    "print (X_train_vect.shape)"
   ]
  },
  {
   "cell_type": "code",
   "execution_count": 31,
   "metadata": {},
   "outputs": [
    {
     "name": "stdout",
     "output_type": "stream",
     "text": [
      "A vocabulary of 33148 words has been created\n"
     ]
    }
   ],
   "source": [
    "print (f\"A vocabulary of {len(vec_X.vocabulary_)} words has been created\")"
   ]
  },
  {
   "cell_type": "markdown",
   "metadata": {},
   "source": [
    "Similarly for the test data"
   ]
  },
  {
   "cell_type": "code",
   "execution_count": 32,
   "metadata": {},
   "outputs": [
    {
     "name": "stdout",
     "output_type": "stream",
     "text": [
      "(46126,)\n"
     ]
    }
   ],
   "source": [
    "# We transfrom our test data to vector\n",
    "X_test_vect = pre_proc_text(X_train, X_test, vec_X)\n",
    "print (X_test_vect.shape)"
   ]
  },
  {
   "cell_type": "markdown",
   "metadata": {},
   "source": [
    "We can now vectorise the labels"
   ]
  },
  {
   "cell_type": "code",
   "execution_count": 33,
   "metadata": {},
   "outputs": [
    {
     "data": {
      "text/plain": [
       "CountVectorizer()"
      ]
     },
     "execution_count": 33,
     "metadata": {},
     "output_type": "execute_result"
    }
   ],
   "source": [
    "vec_y.fit(y_train)"
   ]
  },
  {
   "cell_type": "code",
   "execution_count": 34,
   "metadata": {},
   "outputs": [
    {
     "name": "stdout",
     "output_type": "stream",
     "text": [
      "(107626, 4)\n"
     ]
    }
   ],
   "source": [
    "y_train_vect = vec_y.transform(y_train).toarray()\n",
    "print (y_train_vect.shape)"
   ]
  },
  {
   "cell_type": "code",
   "execution_count": 35,
   "metadata": {},
   "outputs": [
    {
     "name": "stdout",
     "output_type": "stream",
     "text": [
      "(46126, 4)\n"
     ]
    }
   ],
   "source": [
    "y_test_vect = vec_y.transform(y_test).toarray()\n",
    "print (y_test_vect.shape)"
   ]
  },
  {
   "cell_type": "code",
   "execution_count": 36,
   "metadata": {},
   "outputs": [
    {
     "name": "stderr",
     "output_type": "stream",
     "text": [
      "Using TensorFlow backend.\n"
     ]
    }
   ],
   "source": [
    "# The maximum of words for our word embeddings\n",
    "max_len= 45\n",
    "# we are padding the sequences\n",
    "X_train_vect = sequence.pad_sequences(X_train_vect, maxlen=max_len)\n",
    "X_test_vect = sequence.pad_sequences(X_test_vect, maxlen=max_len)"
   ]
  },
  {
   "cell_type": "markdown",
   "metadata": {},
   "source": [
    "### A LSTM model that overfits the data\n",
    "<a id=\"overfit\"></a>"
   ]
  },
  {
   "cell_type": "markdown",
   "metadata": {},
   "source": [
    "Here we develop a more complicated model that will overfit the data. The number of parameters in this model is so large so that so that a great deal of information only specific to the training data is captured. This becomes noticeable after a few epochs when the loss in the validation set starts increasing from the 4th epoch onwards."
   ]
  },
  {
   "cell_type": "code",
   "execution_count": 145,
   "metadata": {},
   "outputs": [],
   "source": [
    "# model definition\n",
    "\n",
    "model = Sequential()\n",
    "model.add(Embedding(len(vec_X.vocabulary_), 128, input_length=max_len))\n",
    "model.add(LSTM(64))\n",
    "model.add(Dense(4, activation=\"softmax\"))"
   ]
  },
  {
   "cell_type": "code",
   "execution_count": 142,
   "metadata": {},
   "outputs": [
    {
     "name": "stdout",
     "output_type": "stream",
     "text": [
      "Model: \"sequential_23\"\n",
      "_________________________________________________________________\n",
      "Layer (type)                 Output Shape              Param #   \n",
      "=================================================================\n",
      "embedding_23 (Embedding)     (None, 45, 128)           4242944   \n",
      "_________________________________________________________________\n",
      "lstm_25 (LSTM)               (None, 64)                49408     \n",
      "_________________________________________________________________\n",
      "dense_30 (Dense)             (None, 4)                 260       \n",
      "=================================================================\n",
      "Total params: 4,292,612\n",
      "Trainable params: 4,292,612\n",
      "Non-trainable params: 0\n",
      "_________________________________________________________________\n"
     ]
    }
   ],
   "source": [
    "model_x = CW_network(model)"
   ]
  },
  {
   "cell_type": "code",
   "execution_count": 146,
   "metadata": {},
   "outputs": [],
   "source": [
    "# Model compilation\n",
    "model_x.compile_network(\"rmsprop\", \"categorical_crossentropy\", \"accuracy\")"
   ]
  },
  {
   "cell_type": "code",
   "execution_count": 147,
   "metadata": {},
   "outputs": [
    {
     "name": "stderr",
     "output_type": "stream",
     "text": [
      "/opt/anaconda3/envs/dl_env/lib/python3.7/site-packages/tensorflow_core/python/framework/indexed_slices.py:424: UserWarning: Converting sparse IndexedSlices to a dense Tensor of unknown shape. This may consume a large amount of memory.\n",
      "  \"Converting sparse IndexedSlices to a dense Tensor of unknown shape. \"\n"
     ]
    },
    {
     "name": "stdout",
     "output_type": "stream",
     "text": [
      "Train on 75338 samples, validate on 32288 samples\n",
      "Epoch 1/10\n",
      "75338/75338 [==============================] - 224s 3ms/step - loss: 0.1764 - accuracy: 0.9442 - val_loss: 0.1809 - val_accuracy: 0.9403\n",
      "Epoch 2/10\n",
      "75338/75338 [==============================] - 78s 1ms/step - loss: 0.1313 - accuracy: 0.9566 - val_loss: 0.1686 - val_accuracy: 0.9429\n",
      "Epoch 3/10\n",
      "75338/75338 [==============================] - 77s 1ms/step - loss: 0.1098 - accuracy: 0.9634 - val_loss: 0.1663 - val_accuracy: 0.9426\n",
      "Epoch 4/10\n",
      "75338/75338 [==============================] - 76s 1ms/step - loss: 0.0973 - accuracy: 0.9668 - val_loss: 0.1555 - val_accuracy: 0.9486\n",
      "Epoch 5/10\n",
      "75338/75338 [==============================] - 74s 984us/step - loss: 0.0864 - accuracy: 0.9694 - val_loss: 0.1625 - val_accuracy: 0.9467\n",
      "Epoch 6/10\n",
      "75338/75338 [==============================] - 90s 1ms/step - loss: 0.0790 - accuracy: 0.9722 - val_loss: 0.1609 - val_accuracy: 0.9488\n",
      "Epoch 7/10\n",
      "75338/75338 [==============================] - 78s 1ms/step - loss: 0.0718 - accuracy: 0.9748 - val_loss: 0.1663 - val_accuracy: 0.9475\n",
      "Epoch 8/10\n",
      "75338/75338 [==============================] - 76s 1ms/step - loss: 0.0663 - accuracy: 0.9760 - val_loss: 0.1764 - val_accuracy: 0.9455\n",
      "Epoch 9/10\n",
      "75338/75338 [==============================] - 91s 1ms/step - loss: 0.0615 - accuracy: 0.9783 - val_loss: 0.1663 - val_accuracy: 0.9491\n",
      "Epoch 10/10\n",
      "75338/75338 [==============================] - 79s 1ms/step - loss: 0.0577 - accuracy: 0.9797 - val_loss: 0.1801 - val_accuracy: 0.9485\n"
     ]
    }
   ],
   "source": [
    "model_x.train_network(X_train_vect, y_train_vect, 10, 1024, .3)"
   ]
  },
  {
   "cell_type": "code",
   "execution_count": 199,
   "metadata": {},
   "outputs": [
    {
     "data": {
      "image/png": "[encoded data removed]",
      "text/plain": [
       "<Figure size 432x288 with 1 Axes>"
      ]
     },
     "metadata": {
      "needs_background": "light"
     },
     "output_type": "display_data"
    }
   ],
   "source": [
    "# training vs validation loss graph\n",
    "model_x.train_val_loss_graph()"
   ]
  },
  {
   "cell_type": "code",
   "execution_count": 149,
   "metadata": {},
   "outputs": [
    {
     "data": {
      "image/png": "[encoded data removed]",
      "text/plain": [
       "<Figure size 432x288 with 1 Axes>"
      ]
     },
     "metadata": {
      "needs_background": "light"
     },
     "output_type": "display_data"
    }
   ],
   "source": [
    "# training vs validation accuracy graph\n",
    "model_x.train_val_acc_graph()"
   ]
  },
  {
   "cell_type": "markdown",
   "metadata": {},
   "source": [
    "We see here that as epochs increase, accuracy increases drastically. Despite that, the training process demonstrated that the model started overfitting sfter the 4th epoch. We can further fine-tune our model to optimise the accuracy and generalisability levels at the same time."
   ]
  },
  {
   "cell_type": "markdown",
   "metadata": {},
   "source": [
    "### Regularizing the model and tuning the hyperparameters\n",
    "<a id=\"tune\"></a>\n"
   ]
  },
  {
   "cell_type": "markdown",
   "metadata": {},
   "source": [
    "Here we attempt to regularise the model and tune the hyperparameters to achieve a higher accuracy than that of the simple model applied at first, however at the same time we will try to avoid overfitting the training data. \n",
    "\n",
    "In this case we won't be using the dropout regularisation technique because we will actually try to achieve the same result by restricting the number of the parameters for the neural network.\n",
    "\n",
    "Our aim is to find an appropriate set of hyperparameters. The model's hyperparameters are defined as all non-trainable parameters such as the number of layers and nodes in layers, the model's learning rate etc. We will attempt to tune the hyperparameters between the train and the validation sets as we want to prevent information from leaking between the unseen test data and the training data during the fine-tuning process.\n",
    "\n",
    "After careful examination and experimentations, the presentation of which is out of scope for this paper, we decided to regularise our model by going through the following steps:\n",
    "\n",
    "- We introduced a dropout of 0.2 after the first layer. This way the number of the neurons were randomly removed hence simplifying our model and preventing overfitting.\n",
    "\n",
    "- For the second layer of the network we applied L2 regularisation.\n",
    "\n",
    "- We introduced a learning rate schedule that has a polynomial decay[<sup>**[5]**</sup>](#ref) shape. In our scenario we observed that a monotonically decreasing learning rate improved the model's performance. Using this method, a polynomial decay function was applied to the model's steps. To carry out optimisation the user has to experiment and select the ```initial_learning_rate```, the ```end_learning_rate``` and the step of the schedule.\n",
    "\n",
    "- Last but not least, we tried a few other activators (```tanh```, ```sigmoid```) and optimisation functions (```adam```) however we figured out that ```relu```, ```softmax``` and ```RMSprop``` provided better results in this exercise. \n"
   ]
  },
  {
   "cell_type": "code",
   "execution_count": 155,
   "metadata": {},
   "outputs": [],
   "source": [
    "# model definition\n",
    "\n",
    "model = Sequential()\n",
    "model.add(Embedding(len(vec_X.vocabulary_), 128, input_length=max_len))\n",
    "model.add(LSTM(32, dropout=0.2, kernel_regularizer = regularizers.l2(0.001), activation=\"relu\"))\n",
    "\n",
    "model.add(Dense(4, activation=\"softmax\"))"
   ]
  },
  {
   "cell_type": "code",
   "execution_count": 156,
   "metadata": {},
   "outputs": [
    {
     "name": "stdout",
     "output_type": "stream",
     "text": [
      "Model: \"sequential_27\"\n",
      "_________________________________________________________________\n",
      "Layer (type)                 Output Shape              Param #   \n",
      "=================================================================\n",
      "embedding_27 (Embedding)     (None, 45, 128)           4242944   \n",
      "_________________________________________________________________\n",
      "lstm_29 (LSTM)               (None, 32)                20608     \n",
      "_________________________________________________________________\n",
      "dense_34 (Dense)             (None, 4)                 132       \n",
      "=================================================================\n",
      "Total params: 4,263,684\n",
      "Trainable params: 4,263,684\n",
      "Non-trainable params: 0\n",
      "_________________________________________________________________\n"
     ]
    }
   ],
   "source": [
    "model_x1 = CW_network(model)"
   ]
  },
  {
   "cell_type": "code",
   "execution_count": 154,
   "metadata": {},
   "outputs": [],
   "source": [
    "starter_learning_rate = 0.001\n",
    "end_learning_rate = 0.00005\n",
    "decay_steps = 1000\n",
    "lr_schedule = keras.optimizers.schedules.PolynomialDecay(\n",
    "    starter_learning_rate,\n",
    "    decay_steps,\n",
    "    end_learning_rate,\n",
    "    power=1.)\n",
    "rmsprop = keras.optimizers.RMSprop(lr_schedule)"
   ]
  },
  {
   "cell_type": "code",
   "execution_count": 157,
   "metadata": {},
   "outputs": [],
   "source": [
    "# Model compilation\n",
    "model_x1.compile_network(rmsprop, \"categorical_crossentropy\", \"accuracy\")"
   ]
  },
  {
   "cell_type": "code",
   "execution_count": 158,
   "metadata": {},
   "outputs": [
    {
     "name": "stdout",
     "output_type": "stream",
     "text": [
      "Train on 75338 samples, validate on 32288 samples\n",
      "Epoch 1/10\n",
      "75338/75338 [==============================] - 39s 512us/step - loss: 1.0392 - accuracy: 0.7192 - val_loss: 0.5232 - val_accuracy: 0.8582\n",
      "Epoch 2/10\n",
      "75338/75338 [==============================] - 36s 484us/step - loss: 0.4541 - accuracy: 0.8931 - val_loss: 0.3564 - val_accuracy: 0.9104\n",
      "Epoch 3/10\n",
      "75338/75338 [==============================] - 39s 516us/step - loss: 0.3181 - accuracy: 0.9281 - val_loss: 0.2728 - val_accuracy: 0.9329\n",
      "Epoch 4/10\n",
      "75338/75338 [==============================] - 38s 506us/step - loss: 0.2510 - accuracy: 0.9410 - val_loss: 0.2454 - val_accuracy: 0.9367\n",
      "Epoch 5/10\n",
      "75338/75338 [==============================] - 37s 496us/step - loss: 0.2122 - accuracy: 0.9482 - val_loss: 0.2677 - val_accuracy: 0.9364\n",
      "Epoch 6/10\n",
      "75338/75338 [==============================] - 38s 505us/step - loss: 0.1870 - accuracy: 0.9534 - val_loss: 0.2158 - val_accuracy: 0.9406\n",
      "Epoch 7/10\n",
      "75338/75338 [==============================] - 757s 10ms/step - loss: 0.1682 - accuracy: 0.9573 - val_loss: 0.2152 - val_accuracy: 0.9443\n",
      "Epoch 8/10\n",
      "75338/75338 [==============================] - 38s 505us/step - loss: 0.1543 - accuracy: 0.9599 - val_loss: 0.2095 - val_accuracy: 0.9452\n",
      "Epoch 9/10\n",
      "75338/75338 [==============================] - 37s 497us/step - loss: 0.1448 - accuracy: 0.9615 - val_loss: 0.1901 - val_accuracy: 0.9455\n",
      "Epoch 10/10\n",
      "75338/75338 [==============================] - 38s 499us/step - loss: 0.1348 - accuracy: 0.9636 - val_loss: 0.1977 - val_accuracy: 0.9424\n"
     ]
    }
   ],
   "source": [
    "model_x1.train_network(X_train_vect, y_train_vect, 10, 1024, .3)"
   ]
  },
  {
   "cell_type": "code",
   "execution_count": 159,
   "metadata": {},
   "outputs": [
    {
     "data": {
      "image/png": "[encoded data removed]",
      "text/plain": [
       "<Figure size 432x288 with 1 Axes>"
      ]
     },
     "metadata": {
      "needs_background": "light"
     },
     "output_type": "display_data"
    }
   ],
   "source": [
    "# training vs validation loss graph\n",
    "model_x1.train_val_loss_graph()"
   ]
  },
  {
   "cell_type": "code",
   "execution_count": 160,
   "metadata": {},
   "outputs": [
    {
     "data": {
      "image/png": "[encoded data removed]",
      "text/plain": [
       "<Figure size 432x288 with 1 Axes>"
      ]
     },
     "metadata": {
      "needs_background": "light"
     },
     "output_type": "display_data"
    }
   ],
   "source": [
    "# training vs validation accuracy graph\n",
    "model_x1.train_val_acc_graph()"
   ]
  },
  {
   "cell_type": "code",
   "execution_count": 178,
   "metadata": {},
   "outputs": [
    {
     "name": "stdout",
     "output_type": "stream",
     "text": [
      "Model: \"sequential_27\"\n",
      "_________________________________________________________________\n",
      "Layer (type)                 Output Shape              Param #   \n",
      "=================================================================\n",
      "embedding_27 (Embedding)     (None, 45, 128)           4242944   \n",
      "_________________________________________________________________\n",
      "lstm_29 (LSTM)               (None, 32)                20608     \n",
      "_________________________________________________________________\n",
      "dense_34 (Dense)             (None, 4)                 132       \n",
      "=================================================================\n",
      "Total params: 4,263,684\n",
      "Trainable params: 4,263,684\n",
      "Non-trainable params: 0\n",
      "_________________________________________________________________\n"
     ]
    }
   ],
   "source": [
    "model.summary()"
   ]
  },
  {
   "cell_type": "markdown",
   "metadata": {},
   "source": [
    "From the above outputs we can see that this model is performing much better than the previous one. The validation loss continues to drop but the rate decreases after around the 5th epoch. Validation accuracy also becomes steady after the 3rd epoch. We could have carried on running the model for more epochs to keep the loss keeps decreasing, this could though result to the model overfitting the validation dataset which we would prefer to avoid."
   ]
  },
  {
   "cell_type": "markdown",
   "metadata": {},
   "source": [
    "## Results\n",
    "<a id=\"results\"></a>\n"
   ]
  },
  {
   "cell_type": "markdown",
   "metadata": {},
   "source": [
    "Below we can see the model evaluation outputs. The overall accuracy levels are looking very promising at approximately 95%. The overall loss is approximately 0.2. The class-specific accuracy matrix indicates that the results look as expected. The elements in the diagonal are coloured brightly, something that demonstrates hight accuracy ranging from 91% to 99%. The elements off the diagonal that show the percentage of wrongly classified questions have darker colours. The worst mis-classification accuracy value is observed between _physics_ and _biology_, where our network mistakes these two courses (and vice versa, since a similarly high score is observed either side of the diagonal). This happens though 4-5% of the time , which could possibly be considered as lying within acceptable levels for this kind of classification problems (for problems where e.g. the task would be to assign patients to a certain drug dose category, misclassification rates would possibly need to be lower)."
   ]
  },
  {
   "cell_type": "code",
   "execution_count": 162,
   "metadata": {},
   "outputs": [
    {
     "name": "stdout",
     "output_type": "stream",
     "text": [
      "46126/46126 [==============================] - 34s 727us/step\n"
     ]
    }
   ],
   "source": [
    "results = model_x1.evaluation(X_test_vect, y_test_vect)"
   ]
  },
  {
   "cell_type": "code",
   "execution_count": 163,
   "metadata": {},
   "outputs": [
    {
     "name": "stdout",
     "output_type": "stream",
     "text": [
      "loss: 0.20483010877829155\n",
      "accuracy: 0.9446299076080322\n"
     ]
    }
   ],
   "source": [
    "print (f\"loss: {results[0]}\\naccuracy: {results[1]}\")"
   ]
  },
  {
   "cell_type": "code",
   "execution_count": 164,
   "metadata": {},
   "outputs": [
    {
     "data": {
      "text/plain": [
       "array([[5.7519581e-05, 1.6139373e-03, 9.9748421e-01, 8.4423856e-04],\n",
       "       [1.2025371e-15, 1.0470218e-09, 9.9998534e-01, 1.4702440e-05],\n",
       "       [9.9998128e-01, 1.1047907e-05, 6.7980159e-06, 8.9544079e-07],\n",
       "       ...,\n",
       "       [7.8216410e-04, 2.0535273e-02, 9.6346360e-01, 1.5218975e-02],\n",
       "       [5.1611772e-07, 6.4046466e-04, 4.9543264e-04, 9.9886358e-01],\n",
       "       [1.0222477e-01, 6.9144255e-01, 7.6283496e-03, 1.9870430e-01]],\n",
       "      dtype=float32)"
      ]
     },
     "execution_count": 164,
     "metadata": {},
     "output_type": "execute_result"
    }
   ],
   "source": [
    "model_x1.predictions(X_test_vect)"
   ]
  },
  {
   "cell_type": "code",
   "execution_count": 165,
   "metadata": {},
   "outputs": [
    {
     "data": {
      "text/plain": [
       "array([[0.96476684, 0.02340242, 0.00785838, 0.00397237],\n",
       "       [0.02566348, 0.92090742, 0.01164929, 0.0417798 ],\n",
       "       [0.00138504, 0.0037223 , 0.98485111, 0.01004155],\n",
       "       [0.00734214, 0.05044485, 0.03446489, 0.90774812]])"
      ]
     },
     "execution_count": 165,
     "metadata": {},
     "output_type": "execute_result"
    }
   ],
   "source": [
    "model_x1.matrix(y_test_vect)"
   ]
  },
  {
   "cell_type": "code",
   "execution_count": 166,
   "metadata": {},
   "outputs": [
    {
     "data": {
      "image/png": "[encoded data removed]",
      "text/plain": [
       "<Figure size 720x576 with 2 Axes>"
      ]
     },
     "metadata": {
      "needs_background": "light"
     },
     "output_type": "display_data"
    }
   ],
   "source": [
    "model_x1.vis_matrix(vec_y.vocabulary_.keys())"
   ]
  },
  {
   "cell_type": "markdown",
   "metadata": {},
   "source": [
    "### Re-train the model prior to deployment\n",
    "<a id=\"retrain\"></a>"
   ]
  },
  {
   "cell_type": "markdown",
   "metadata": {},
   "source": [
    "Finally when we have agreed the final form for our model, we merge the train and test data and re-train the model. This is often done in practice before deploying models during the cycle of data product development. The re-trained model cannot be evaluated though in terms of performance measures, since the whole dataset have been used during model training hence no unseen data for performing the testing on exists anymore."
   ]
  },
  {
   "cell_type": "markdown",
   "metadata": {},
   "source": [
    "#### Prepare the data to run the model \n",
    "\n",
    "Here we prepare the data in order to train the model based on the whole dataset ```X``` and ```y```."
   ]
  },
  {
   "cell_type": "code",
   "execution_count": 167,
   "metadata": {},
   "outputs": [
    {
     "name": "stderr",
     "output_type": "stream",
     "text": [
      "/opt/anaconda3/envs/dl_env/lib/python3.7/site-packages/sklearn/feature_extraction/text.py:489: UserWarning: The parameter 'token_pattern' will not be used since 'tokenizer' is not None'\n",
      "  warnings.warn(\"The parameter 'token_pattern' will not be used\"\n"
     ]
    }
   ],
   "source": [
    "# We use X to generate X_train_final\n",
    "X_train_final = pre_proc_text(X_train, X, vec_X)"
   ]
  },
  {
   "cell_type": "code",
   "execution_count": 192,
   "metadata": {},
   "outputs": [],
   "source": [
    "X_train_final = sequence.pad_sequences(X_train_final, maxlen=max_len)"
   ]
  },
  {
   "cell_type": "code",
   "execution_count": 170,
   "metadata": {},
   "outputs": [],
   "source": [
    "# we use y to generate y_train_final\n",
    "y_train_final = vec_y.transform(y).toarray()"
   ]
  },
  {
   "cell_type": "code",
   "execution_count": 185,
   "metadata": {},
   "outputs": [
    {
     "name": "stdout",
     "output_type": "stream",
     "text": [
      "Model: \"sequential_27\"\n",
      "_________________________________________________________________\n",
      "Layer (type)                 Output Shape              Param #   \n",
      "=================================================================\n",
      "embedding_27 (Embedding)     (None, 45, 128)           4242944   \n",
      "_________________________________________________________________\n",
      "lstm_29 (LSTM)               (None, 32)                20608     \n",
      "_________________________________________________________________\n",
      "dense_34 (Dense)             (None, 4)                 132       \n",
      "=================================================================\n",
      "Total params: 4,263,684\n",
      "Trainable params: 4,263,684\n",
      "Non-trainable params: 0\n",
      "_________________________________________________________________\n"
     ]
    }
   ],
   "source": [
    "model_final = CW_network(model)"
   ]
  },
  {
   "cell_type": "code",
   "execution_count": 186,
   "metadata": {},
   "outputs": [],
   "source": [
    "# We implement the predicided rmprop strategy\n",
    "starter_learning_rate = 0.001\n",
    "end_learning_rate = 0.00005\n",
    "decay_steps = 1000\n",
    "lr_schedule = keras.optimizers.schedules.PolynomialDecay(\n",
    "    starter_learning_rate,\n",
    "    decay_steps,\n",
    "    end_learning_rate,\n",
    "    power=1.)\n",
    "rmsprop = keras.optimizers.RMSprop(lr_schedule)"
   ]
  },
  {
   "cell_type": "code",
   "execution_count": 187,
   "metadata": {},
   "outputs": [],
   "source": [
    "# Model compilation\n",
    "model_final.compile_network(rmsprop, \"categorical_crossentropy\", \"accuracy\")"
   ]
  },
  {
   "cell_type": "markdown",
   "metadata": {},
   "source": [
    "From the previus experimentation we have identified that 9 is the optimal number of epochs."
   ]
  },
  {
   "cell_type": "code",
   "execution_count": 193,
   "metadata": {},
   "outputs": [
    {
     "name": "stdout",
     "output_type": "stream",
     "text": [
      "Epoch 1/9\n",
      "153752/153752 [==============================] - 104s 679us/step - loss: 0.1829 - accuracy: 0.9504\n",
      "Epoch 2/9\n",
      "153752/153752 [==============================] - 101s 659us/step - loss: 0.1506 - accuracy: 0.9569\n",
      "Epoch 3/9\n",
      "153752/153752 [==============================] - 106s 690us/step - loss: 0.1355 - accuracy: 0.9598\n",
      "Epoch 4/9\n",
      "153752/153752 [==============================] - 102s 665us/step - loss: 0.1248 - accuracy: 0.9627\n",
      "Epoch 5/9\n",
      "153752/153752 [==============================] - 103s 668us/step - loss: 0.1161 - accuracy: 0.9645\n",
      "Epoch 6/9\n",
      "153752/153752 [==============================] - 100s 648us/step - loss: 0.1107 - accuracy: 0.9658\n",
      "Epoch 7/9\n",
      "153752/153752 [==============================] - 99s 644us/step - loss: 0.1063 - accuracy: 0.9669\n",
      "Epoch 8/9\n",
      "153752/153752 [==============================] - 101s 660us/step - loss: 0.1054 - accuracy: 0.9673\n",
      "Epoch 9/9\n",
      "153752/153752 [==============================] - 101s 656us/step - loss: 0.1046 - accuracy: 0.9675\n"
     ]
    }
   ],
   "source": [
    "model_final.train_network(X_train_final, y_train_final, 9, 1024, val_split=0.0)"
   ]
  },
  {
   "cell_type": "markdown",
   "metadata": {},
   "source": [
    "We do not evaulate now as we have used all the available data for the predeploymet training. We were expecting that the accuracy would be slightly higher that 94.4 as for the pre deployment training we used all the data available. "
   ]
  },
  {
   "cell_type": "markdown",
   "metadata": {},
   "source": [
    "## Discussion/Conclusion\n",
    "<a id=\"discussion\"></a>"
   ]
  },
  {
   "cell_type": "markdown",
   "metadata": {},
   "source": [
    "In this report we attempted to apply neural networks on a natural language processing (NLP) problem. The text data we used for this purpose comprised of questions that were asked by Indian students preparing for the exams required to get accepted to a university. The dataset consisted of approximately than 123000 questions, with each question having been assigned the subject it belongs to. The 4 subjects included in the data were biology, physics, maths and chemistry. Our intent was to develop a neural network model to predict with some acceptable level of accuracy the subject each question corresponds to given the question's content.\n",
    "\n",
    "It's worth noting at this stage that model performance can be affected strongly with an increasing sample size when classes are imbalanced in terms of size[<sup>**[6]**</sup>](#ref). For this purpose and as a data preparation step, we decided to balance out the difference in size between classes using a common approach, oversampling[<sup>**[7]**</sup>](#ref). We used random sampling with replacement in order to equate the size of all classes to that of the most frequent one, Physics.\n",
    "\n",
    "The first step of this analysis was to apply a Naive Bayes classifier which we used as a baseline approach so that we could  benchmark our results later in the process. We chose accuracy as performance measure. For the baseline algorithm the accuracy was around 91%. We carried on our analysis with applying to the data a very complicated LSTM model that overfitted the training set, which is commonly done in practice. We saw a quick boost in accuracy levels; nevertheless, validation loss also started increasing too after a number of epochs. This in fact indicated the point at which the network began overfitting the data. \n",
    "\n",
    "Lastly, we fitted a regularised LSTM model in order to tune the network's hyperparameters. The regularised model performed remarkably well, with an overall accuracy of 95% approximately. Within-class accuracy scores ranged between 91% and 99% and mis-classification took place infrequently, which looked rather encouraging. \n",
    "\n",
    "Finally, we trained the final model once again on the merged training and validation data. This approach is frequently done in practice before deploying models when building data products, since it is considered to actually help boost a model's generalisability. Models that result from such a re-training process cannot however be assessed in terms of model performance, since no unseen data exists to test the models on."
   ]
  },
  {
   "cell_type": "markdown",
   "metadata": {},
   "source": [
    "## References\n",
    "<a id=\"ref\"></a>\n",
    "\n",
    "\n",
    "\n",
    "[1] [Ministry of Education - Government of India. Joint Entrance Examination (Main)](https://jeemain.nta.nic.in/webinfo2021/Page/Page?PageId=1&LangId=P)\n",
    "\n",
    "[2] Hopfield, J. J. (1982). \"Neural networks and physical systems with emergent collective computational abilities\". Proc. Natl. Acad. Sci. U.S.A. 79 (8): 2554–2558\n",
    "\n",
    "[3] [Feature extraction - sklearn](https://scikit-learn.org/stable/modules/generated/sklearn.feature_extraction.text.CountVectorizer.html)\n",
    "\n",
    "[4] Jurafsky, Daniel; H. James, Martin (2000). Speech and language processing : an introduction to natural language processing, computational linguistics, and speech recognition. Upper Saddle River, N.J.: Prentice Hall. ISBN 978-0-13-095069-7.\n",
    "\n",
    "[5] [Learning rage optimiser - Keras](https://www.tensorflow.org/api_docs/python/tf/keras/optimizers/schedules/PolynomialDecay)\n",
    "\n",
    "[6] [\"Classification of Imbalanced Data:Review of Methods and Applications\", Pradeep Kumar et al 2021 IOP Conf. Ser.: Mater. Sci. Eng. 1099 012077](https://iopscience.iop.org/article/10.1088/1757-899X/1099/1/012077/pdf)\n",
    "\n",
    "[7] [Classification on imbalanced data - Tensorflow](https://www.tensorflow.org/tutorials/structured_data/imbalanced_data)\n",
    "\n",
    "[8] [Deep Learining with Python - Manning publications](https://www.manning.com/books/deep-learning-with-python)\n",
    "\n"
   ]
  }
 ],
 "metadata": {
  "kernelspec": {
   "display_name": "Python 3 (ipykernel)",
   "language": "python",
   "name": "python3"
  },
  "language_info": {
   "codemirror_mode": {
    "name": "ipython",
    "version": 3
   },
   "file_extension": ".py",
   "mimetype": "text/x-python",
   "name": "python",
   "nbconvert_exporter": "python",
   "pygments_lexer": "ipython3",
   "version": "3.9.12"
  }
 },
 "nbformat": 4,
 "nbformat_minor": 4
}
